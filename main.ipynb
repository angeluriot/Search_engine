{
 "cells": [
  {
   "cell_type": "code",
   "execution_count": null,
   "metadata": {},
   "outputs": [],
   "source": [
    "import load\n",
    "from vocab import get_vocab\n",
    "import processing\n",
    "import numpy as np\n",
    "import evaluate"
   ]
  },
  {
   "cell_type": "code",
   "execution_count": null,
   "metadata": {},
   "outputs": [],
   "source": [
    "documents = load.get_documents()\n",
    "queries = load.get_queries()"
   ]
  },
  {
   "cell_type": "code",
   "execution_count": null,
   "metadata": {},
   "outputs": [],
   "source": [
    "vocab, reverse_vocab, idf = get_vocab(documents)"
   ]
  },
  {
   "cell_type": "code",
   "execution_count": null,
   "metadata": {},
   "outputs": [],
   "source": [
    "processing.set_tfidf(documents, vocab, reverse_vocab, idf)\n",
    "processing.set_tfidf(queries, vocab, reverse_vocab, idf)"
   ]
  },
  {
   "cell_type": "code",
   "execution_count": null,
   "metadata": {},
   "outputs": [],
   "source": [
    "results = list(np.random.uniform(1, len(documents) + 1, (len(queries), 10)))\n",
    "precision, recall, f_score = evaluate.evaluate_all(results, queries)\n",
    "print(\"Random results: precision = %.2f%%, recall = %.2f%%, f-score = %.2f%%\" % (precision * 100, recall * 100, f_score * 100))"
   ]
  },
  {
   "cell_type": "code",
   "execution_count": null,
   "metadata": {},
   "outputs": [],
   "source": [
    "results = []\n",
    "\n",
    "for query in queries:\n",
    "\tresults.append(processing.find_best_documents(query, documents, 10, \"tfidf\"))\n",
    "\n",
    "precision, recall, f_score = evaluate.evaluate_all(results, queries)\n",
    "print(\"Model results: precision = %.2f%%, recall = %.2f%%, f-score = %.2f%%\" % (precision * 100, recall * 100, f_score * 100))"
   ]
  }
 ],
 "metadata": {
  "kernelspec": {
   "display_name": "Python 3.9.13 ('venv': venv)",
   "language": "python",
   "name": "python3"
  },
  "language_info": {
   "codemirror_mode": {
    "name": "ipython",
    "version": 3
   },
   "file_extension": ".py",
   "mimetype": "text/x-python",
   "name": "python",
   "nbconvert_exporter": "python",
   "pygments_lexer": "ipython3",
   "version": "3.9.13"
  },
  "orig_nbformat": 4,
  "vscode": {
   "interpreter": {
    "hash": "b1beb8f09881e7fb8629a00ef1a898e7a45b8f0cd24069fb38c45fb9d4e74953"
   }
  }
 },
 "nbformat": 4,
 "nbformat_minor": 2
}
