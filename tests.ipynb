{
 "cells": [
  {
   "cell_type": "code",
   "execution_count": 1,
   "metadata": {},
   "outputs": [
    {
     "name": "stdout",
     "output_type": "stream",
     "text": [
      "kite\n",
      "baby\n",
      "smiling\n",
      "foot\n"
     ]
    }
   ],
   "source": [
    "import nltk\n",
    "#nltk.download('omw-1.4')\n",
    "from nltk.stem import WordNetLemmatizer\n",
    "\n",
    "wnl = WordNetLemmatizer()\n",
    "\n",
    "l = [\"kites\", \"babies\", \"smiling\", \"feet\"]\n",
    "\n",
    "for w in l:\n",
    "\tprint(wnl.lemmatize(w))"
   ]
  }
 ],
 "metadata": {
  "kernelspec": {
   "display_name": "Python 3.10.0 ('venv': venv)",
   "language": "python",
   "name": "python3"
  },
  "language_info": {
   "codemirror_mode": {
    "name": "ipython",
    "version": 3
   },
   "file_extension": ".py",
   "mimetype": "text/x-python",
   "name": "python",
   "nbconvert_exporter": "python",
   "pygments_lexer": "ipython3",
   "version": "3.10.0"
  },
  "orig_nbformat": 4,
  "vscode": {
   "interpreter": {
    "hash": "b5fe7773a30ea7d4ce49ae53e846e9742fb6fd30011b8dbdc55236840eeb2da7"
   }
  }
 },
 "nbformat": 4,
 "nbformat_minor": 2
}
