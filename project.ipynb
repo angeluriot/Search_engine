{
 "cells": [
  {
   "cell_type": "code",
   "execution_count": 1,
   "metadata": {},
   "outputs": [],
   "source": [
    "import load\n",
    "from vocab import get_vocab\n",
    "import processing\n",
    "import numpy as np\n",
    "import evaluate"
   ]
  },
  {
   "cell_type": "code",
   "execution_count": 2,
   "metadata": {},
   "outputs": [],
   "source": [
    "documents = load.get_documents()\n",
    "queries = load.get_queries()"
   ]
  },
  {
   "cell_type": "code",
   "execution_count": 3,
   "metadata": {},
   "outputs": [
    {
     "name": "stdout",
     "output_type": "stream",
     "text": [
      "Document 1460\r"
     ]
    }
   ],
   "source": [
    "vocab, reverse_vocab, idf = get_vocab(documents)"
   ]
  },
  {
   "cell_type": "code",
   "execution_count": 4,
   "metadata": {},
   "outputs": [],
   "source": [
    "processing.set_tfidf(documents, vocab, reverse_vocab, idf)\n",
    "processing.set_tfidf(queries, vocab, reverse_vocab, idf)"
   ]
  },
  {
   "cell_type": "code",
   "execution_count": 6,
   "metadata": {},
   "outputs": [
    {
     "name": "stdout",
     "output_type": "stream",
     "text": [
      "Random results: precision = 0.00%, recall = 0.00%, f-score = 0.00%\n"
     ]
    }
   ],
   "source": [
    "results = list(np.random.uniform(1, len(documents) + 1, (len(queries), 10)))\n",
    "precision, recall, f_score = evaluate.evaluate_all(results, queries)\n",
    "print(\"Random results: precision = %.2f%%, recall = %.2f%%, f-score = %.2f%%\" % (precision * 100, recall * 100, f_score * 100))"
   ]
  },
  {
   "cell_type": "code",
   "execution_count": 7,
   "metadata": {},
   "outputs": [
    {
     "name": "stdout",
     "output_type": "stream",
     "text": [
      "Best results: precision = 1.96%, recall = 0.74%, f-score = 0.92%\n"
     ]
    }
   ],
   "source": [
    "results = []\n",
    "\n",
    "for query in queries:\n",
    "\tresults.append(processing.find_best_documents(query, documents, 10, \"bm25\"))\n",
    "\n",
    "precision, recall, f_score = evaluate.evaluate_all(results, queries)\n",
    "print(\"Best results: precision = %.2f%%, recall = %.2f%%, f-score = %.2f%%\" % (precision * 100, recall * 100, f_score * 100))"
   ]
  }
 ],
 "metadata": {
  "kernelspec": {
   "display_name": "Python 3.10.0 ('venv': venv)",
   "language": "python",
   "name": "python3"
  },
  "language_info": {
   "codemirror_mode": {
    "name": "ipython",
    "version": 3
   },
   "file_extension": ".py",
   "mimetype": "text/x-python",
   "name": "python",
   "nbconvert_exporter": "python",
   "pygments_lexer": "ipython3",
   "version": "3.10.0"
  },
  "orig_nbformat": 4,
  "vscode": {
   "interpreter": {
    "hash": "b5fe7773a30ea7d4ce49ae53e846e9742fb6fd30011b8dbdc55236840eeb2da7"
   }
  }
 },
 "nbformat": 4,
 "nbformat_minor": 2
}
